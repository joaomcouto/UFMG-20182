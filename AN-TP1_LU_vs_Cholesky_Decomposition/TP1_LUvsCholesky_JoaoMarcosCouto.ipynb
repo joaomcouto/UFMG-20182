{
 "cells": [
  {
   "cell_type": "markdown",
   "metadata": {},
   "source": [
    "## Implementação da decomposição LU com pivotaçao parcial "
   ]
  },
  {
   "cell_type": "code",
   "execution_count": 9,
   "metadata": {},
   "outputs": [],
   "source": [
    "import numpy as np\n",
    "\n",
    "def troca(a,b):\n",
    "    temp = a.copy()\n",
    "    a[:] = b[:]\n",
    "    b[:] = temp[:]\n",
    "    \n",
    "def encontraIndicePivo(v): #Dado um vetor, retorna a linha do elemento com o maior valor absoluto\n",
    "    pivotrow = 0\n",
    "    n = v.shape[0]\n",
    "    for j in range(n):\n",
    "        if (abs(v[j]) > abs(v[pivotrow])):\n",
    "            pivotrow = j\n",
    "    return pivotrow\n",
    "\n",
    "def LUPivot(A):\n",
    "    n = A.shape[0]\n",
    "    U = A.copy()\n",
    "    L = np.zeros((n,n))\n",
    "    P = np.eye(A.shape[0])\n",
    "    for k in range(n): \n",
    "        pivotrow = encontraIndicePivo(U[k:n,k]) + k #A soma do k é devido ao fato de que a função vai retornar o numero da linha como um delta apartir do k\n",
    "        troca(U[k],U[pivotrow])\n",
    "        troca(L[k],L[pivotrow])\n",
    "        troca(P[k],P[pivotrow])\n",
    "        for i in range (k+1,n): #para cada linha apos a do pivo\n",
    "            m = U[i,k]/U[k,k] #calcula o multiplicador de uma determinada linha, que seja tambem elemento \n",
    "            L[i,k] = m   \n",
    "            U[i] = U[i] - m*U[k]\n",
    "    L = L + np.eye(A.shape[0])\n",
    "    return L, U, P\n"
   ]
  },
  {
   "cell_type": "markdown",
   "metadata": {},
   "source": [
    "## Implementação da decomposição de Cholesky \n"
   ]
  },
  {
   "cell_type": "code",
   "execution_count": 10,
   "metadata": {},
   "outputs": [],
   "source": [
    "from scipy.linalg import solve_triangular\n",
    "def Cholesky(A):\n",
    "    n = A.shape[0]\n",
    "    L = np.zeros((n,n))\n",
    "    for i in range(n): \n",
    "        for j in range (i+1):\n",
    "            u = np.copy(L[i,0:j])\n",
    "            v = np.copy(L[j,0:j])\n",
    "            somatorio = np.dot(u,v) #armazena o somatorio referente ao dot product entre os elementos da linha i e j (referente ao calculo do Lij sendo calculado)\n",
    "            if(i == j):\n",
    "                L[i,j] = (A[i,j]- somatorio)**(0.5)\n",
    "            if (i!=j):\n",
    "                L[i,j] = (A[i,j]- somatorio)/L[j,j]\n",
    "    return L\n",
    "\n",
    "def resolveCholesky(L,b):\n",
    "    y = solve_triangular(L, b, lower = True)\n",
    "    x = solve_triangular(np.transpose(L), y)\n",
    "    return x;"
   ]
  },
  {
   "cell_type": "markdown",
   "metadata": {},
   "source": [
    "Para gerar matrizes que atendem a ambas as decomposições, é necessario que elas sejam positivas definidas e simetricas. Para tal foi suficiente gerar matrizes aleatorias de dimensao NxM (onde n é 2 elevado ao expoente da iteração em questão) e então multiplica-las por suas transpostas"
   ]
  },
  {
   "cell_type": "code",
   "execution_count": 11,
   "metadata": {},
   "outputs": [],
   "source": [
    "expoentes = np.arange(8,12) \n",
    "\n",
    "tempos_LUPivot = np.zeros(len(expoentes)) #Arrays de armazenamento de tempos dos dois metodos\n",
    "tempos_Chol = np.zeros(len(expoentes))\n",
    "i = 0 \n",
    "\n",
    "#Loop de geração das matrizes definidas positivas e simetricas 2^n por 2^n com n = [8,9,10,11]\n",
    "for expoente in expoentes:\n",
    "    n = 2**expoente\n",
    "    m = n+1\n",
    "    X = np.random.random((n,m))\n",
    "    A = X @ X.T\n",
    "    \n",
    "    time_info = %timeit -r 3 -n 5 -q -o L,U,P = LUPivot(A) #Medição dos tempos gastos para executar a descomposicao LU com pivotação parcial\n",
    "    tempos_LUPivot[i] = time_info.average\n",
    "    time_info = %timeit -r 3 -n 5 -q -o L = Cholesky(A) #Medição do tempo médio gasto para executar a decomposição Cholesky \n",
    "    tempos_Chol[i] = time_info.average\n",
    "    i = i + 1\n",
    "    \n",
    "    \n",
    "\n",
    "\n",
    "\n",
    "\n",
    "\n",
    "\n",
    "\n"
   ]
  },
  {
   "cell_type": "markdown",
   "metadata": {},
   "source": [
    "## Grafico com as plotagens dos tempos"
   ]
  },
  {
   "cell_type": "code",
   "execution_count": 12,
   "metadata": {},
   "outputs": [
    {
     "data": {
      "text/plain": [
       "<matplotlib.legend.Legend at 0x1e7975ebc18>"
      ]
     },
     "execution_count": 12,
     "metadata": {},
     "output_type": "execute_result"
    },
    {
     "data": {
      "image/png": "[encoded data removed]",
      "text/plain": [
       "<Figure size 432x288 with 1 Axes>"
      ]
     },
     "metadata": {},
     "output_type": "display_data"
    }
   ],
   "source": [
    "import matplotlib.pyplot as plt\n",
    "%matplotlib inline\n",
    "plt.plot(expoentes,tempos_LUPivot,'r-',label='LU (Com pivotação parcial)',color=\"Red\",linestyle=\"dashdot\") #Plotar os valores de tempo da decomp. LU pelo tempo\n",
    "plt.plot(expoentes,tempos_Chol,'b-',label='Cholesky', color=\"Black\",linestyle=\"dashdot\") #Plota os valores de tempo da decomp. de Cholesky em preto\n",
    "plt.xlabel('Expoente n da matriz A ($2^n$x$2^n$)')\n",
    "plt.ylabel('Tempo médio')\n",
    "plt.legend()\n",
    "\n"
   ]
  },
  {
   "cell_type": "code",
   "execution_count": null,
   "metadata": {},
   "outputs": [],
   "source": []
  },
  {
   "cell_type": "code",
   "execution_count": null,
   "metadata": {},
   "outputs": [],
   "source": []
  }
 ],
 "metadata": {
  "kernelspec": {
   "display_name": "Python 3",
   "language": "python",
   "name": "python3"
  },
  "language_info": {
   "codemirror_mode": {
    "name": "ipython",
    "version": 3
   },
   "file_extension": ".py",
   "mimetype": "text/x-python",
   "name": "python",
   "nbconvert_exporter": "python",
   "pygments_lexer": "ipython3",
   "version": "3.6.5"
  }
 },
 "nbformat": 4,
 "nbformat_minor": 2
}
