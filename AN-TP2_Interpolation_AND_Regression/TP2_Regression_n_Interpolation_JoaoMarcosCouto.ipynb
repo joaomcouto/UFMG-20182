{
 "cells": [
  {
   "cell_type": "markdown",
   "metadata": {},
   "source": [
    "# TP2: Interpolação Polinomial e Regressão Polinomial\n",
    "\n",
    "Nome: João Marcos Machado Couto\n",
    "\n",
    "Matrícula:2017014421\n",
    "\n",
    "**Ao submeter este trabalho prático, eu, aluno, declaro que aceito a seguinte política de honestidade com relação ao plágio: \"O aluno que submeter soluções com mais que 40% das linhas similares a outra submissão ficará com zero neste trabalho prático. As soluções enviadas também serão comparadas com sumissões de semestres anteriores.\"**\n",
    "\n",
    "* Data de entrega: até 23:59 do dia 09/10/2018\n",
    "\n",
    "* As questões não podem ser discutidas entre alunos *em hipótese alguma*. Dúvidas devem ser tiradas com os monitores ou com o professor.\n",
    "\n",
    "* Todo material consultado na Internet deve ser referenciado (incluir URL).\n",
    "\n",
    "* Submissão deve ser feita em formato de ipython notebook (extensão .ipynb) através do Moodle."
   ]
  },
  {
   "cell_type": "markdown",
   "metadata": {},
   "source": [
    "Este trabalho está dividido em quatro partes:\n",
    "\n",
    "* **Parte 0**: Apresentação das técnicas vistas em sala\n",
    "* **Parte 1**: Polinômio de Gregory-Newton\n",
    "* **Parte 2**: Estudo do erro, interpolação vs. regressão\n",
    "* **Parte 3**: Estudo do tempo de execução, interpolação vs. regressão"
   ]
  },
  {
   "cell_type": "markdown",
   "metadata": {},
   "source": [
    "## Parte 0: Apresentação das técnicas vistas em sala"
   ]
  },
  {
   "cell_type": "markdown",
   "metadata": {},
   "source": [
    "**Interpolação Polinomial:** a seguir apresentamos as implementações dos métodos de Newton e Lagrange, vistos em sala."
   ]
  },
  {
   "cell_type": "code",
   "execution_count": 1,
   "metadata": {},
   "outputs": [],
   "source": [
    "import numpy as np\n",
    "\n",
    "def PolinomioNewton(x, y, z):\n",
    "    m = len(x)\n",
    "    Delta = np.zeros((m,m))\n",
    "    Delta[:,0] = y\n",
    "    for j in range(1,m):\n",
    "        for i in range(m-j):\n",
    "            Delta[i,j] = (Delta[i+1,j-1] - Delta[i,j-1])/(x[i+j]-x[i])\n",
    "    \n",
    "    # com Processo de Horner\n",
    "    soma = 0.0\n",
    "    for j in range(m-1,0,-1):\n",
    "        soma += Delta[0,j]\n",
    "        soma *= (z-x[j-1])\n",
    "    soma += y[0]\n",
    "        \n",
    "    return soma\n",
    "\n",
    "\n"
   ]
  },
  {
   "cell_type": "code",
   "execution_count": 2,
   "metadata": {},
   "outputs": [],
   "source": [
    "def PolinomioLagrange(x, y, z):\n",
    "    m = len(x)\n",
    "    soma = 0\n",
    "    for i in range(m):\n",
    "        prod = y[i]\n",
    "        for j in range(m):\n",
    "            if j != i:\n",
    "                prod *= (z-x[j])/(x[i]-x[j])\n",
    "        soma += prod\n",
    "        \n",
    "    return soma"
   ]
  },
  {
   "cell_type": "code",
   "execution_count": 3,
   "metadata": {},
   "outputs": [
    {
     "name": "stdout",
     "output_type": "stream",
     "text": [
      "Interpolacao de Newton: -7.0\n",
      "Interpolacao de Lagrange: -6.999999999999999\n"
     ]
    }
   ],
   "source": [
    "# Exemplo de uso\n",
    "\n",
    "x = 1.0*np.array([3,5,6])\n",
    "y = 1.0*np.array([-8,-3,4])\n",
    "\n",
    "print('Interpolacao de Newton:',PolinomioNewton(x,y,4))\n",
    "print('Interpolacao de Lagrange:',PolinomioLagrange(x,y,4))"
   ]
  },
  {
   "cell_type": "markdown",
   "metadata": {},
   "source": [
    "**Regressão Polinomial**: a seguir apresentamos a implementação da regressão polinomial usando o métodos dos mínimos quadrados."
   ]
  },
  {
   "cell_type": "markdown",
   "metadata": {},
   "source": [
    "A seguir apresentamos a implementação um gerador de polinômios aleatórios. Mais precisamente, iremos escrever uma função que retorna $p+1$ números aleatórios independentes e com distribuição uniforme entre -5 e 5. Para isto, usamos a função np.random.rand. Tendo em vista que esta função do numpy gera valores em $[0,1)$, iremos transformá-los de maneira a mapeá-los para o intervalo $[-5,5)$."
   ]
  },
  {
   "cell_type": "code",
   "execution_count": 4,
   "metadata": {},
   "outputs": [],
   "source": [
    "def RegressaoPolinomial_getX(x,t):\n",
    "    n = len(x)\n",
    "    X = np.empty((n,t+1))\n",
    "    X[:,0] = 1\n",
    "    X[:,1] = x\n",
    "    for i in range(2,t+1):\n",
    "        X[:,i] = X[:,i-1]*x\n",
    "    return X"
   ]
  },
  {
   "cell_type": "code",
   "execution_count": 5,
   "metadata": {},
   "outputs": [
    {
     "name": "stdout",
     "output_type": "stream",
     "text": [
      "Os coeficientes de y = beta_0 + beta_1 x + beta_2 x^2 são: [5.31559127 0.74500242 0.09614938]\n"
     ]
    }
   ],
   "source": [
    "exemplo_x = np.array([1.2,2.5,3.0,4.1,6.2,7.1,8.8,9.5])\n",
    "exemplo_y = np.array([6.8,6.1,9.9,9.7,12.1,17.9,18.0,21.5])\n",
    "\n",
    "exemplo_X = RegressaoPolinomial_getX(exemplo_x,2)\n",
    "beta, residuals, rank, sing_vals = np.linalg.lstsq(exemplo_X,exemplo_y,rcond=-1)\n",
    "print('Os coeficientes de y = beta_0 + beta_1 x + beta_2 x^2 são:',beta)"
   ]
  },
  {
   "cell_type": "markdown",
   "metadata": {},
   "source": [
    "**Geração de dados sintéticos:** A seguir apresentamos duas funções para gerar tabelas de pontos $(x,y)$ **com erros de medição em $y$**, a partir da avaliação de um polinômio. Vamos assumir que os coeficientes são dados em ordem crescente de grau. Para isso, usaremos a função np.polyval que avalia, em um ponto $x$, um polinômio cujos coeficientes são fornecidos em ordem *decrescente*. Este valor será somado a um erro aleatório cuja distribuição é Normal com média 0 e desvio padrão 0.1, usando a função np.random.normal.\n",
    "\n",
    "Na primeira função, as abcissas são igualmente espaçadas entre $x_1 = 0$ e $x_n=1$.\n",
    "\n",
    "Na segunda função, $x_1 = 0$, $x_n = 1$ e o restante das abcissas são escolhidas independentemente de maneira uniforme aleatória no intervalo $[0,1)$."
   ]
  },
  {
   "cell_type": "code",
   "execution_count": 6,
   "metadata": {},
   "outputs": [],
   "source": [
    "def geraPolinomioAleatorio(p):\n",
    "    return -5+10*np.random.rand(p+1)"
   ]
  },
  {
   "cell_type": "code",
   "execution_count": 7,
   "metadata": {},
   "outputs": [
    {
     "data": {
      "text/plain": [
       "array([-1.22068655, -0.94300489, -4.44129521,  4.37176996])"
      ]
     },
     "execution_count": 7,
     "metadata": {},
     "output_type": "execute_result"
    }
   ],
   "source": [
    "geraPolinomioAleatorio(3)"
   ]
  },
  {
   "cell_type": "code",
   "execution_count": 8,
   "metadata": {},
   "outputs": [],
   "source": [
    "def geraTabelaAleatoriaY(n, coef):\n",
    "    x = np.linspace(0,1,n)\n",
    "    y = np.polyval(coef[::-1],x) + np.random.normal(scale=0.1,size=n)\n",
    "    return x,y"
   ]
  },
  {
   "cell_type": "code",
   "execution_count": 9,
   "metadata": {},
   "outputs": [],
   "source": [
    "def geraTabelaAleatoriaXY(n, coef):\n",
    "    x = np.array([0.0] + list(np.random.rand(n-2)) + [1.0])\n",
    "    y = np.polyval(coef[::-1],x) + np.random.normal(scale=0.1,size=n)\n",
    "    return x,y"
   ]
  },
  {
   "cell_type": "code",
   "execution_count": 10,
   "metadata": {},
   "outputs": [
    {
     "name": "stdout",
     "output_type": "stream",
     "text": [
      "[0.         0.69323539 0.70150348 0.721051   0.8417081  0.69517102\n",
      " 0.38654047 0.87474873 0.85559868 0.24640891 1.        ] [ -4.60400602  -8.43309324  -8.50051026  -8.6742926   -9.68630649\n",
      "  -8.41725181  -5.83394919  -9.98543597  -9.92424064  -5.52972958\n",
      " -11.46688005]\n"
     ]
    }
   ],
   "source": [
    "# Exemplo de uso\n",
    "coef = geraPolinomioAleatorio(3)\n",
    "x, y = geraTabelaAleatoriaXY(11,coef)\n",
    "print(x,y)"
   ]
  },
  {
   "cell_type": "markdown",
   "metadata": {},
   "source": [
    "## Parte 1: Interpolação de Gregory-Newton\n",
    "\n",
    "A Interpolação de Gregory-Newton é uma variação da Interpolação de Newton que pode ser utilizada quando as abscissas são igualmente espaçadas: $x_0, x_1 = x_0 + h, x_2 = x_0 + 2h, \\ldots, x_n = x_0 + nh$.\n",
    "\n",
    "Por exemplo, $x_0 = 0.0, x_1 = 0.2, x_2 = 0.4, \\ldots, x_n = 1.0$, onde $h = 0.2$.\n",
    "\n",
    "O operador utilizado na interpolação de Gregory-Newton é a diferença finita (e não a diferença dividida), definida como\n",
    "$$\n",
    "\\Delta^j y_i = \\Delta^{j-1} y_{i+1} - \\Delta^{j-1} y_i, \\quad j=1,\\ldots,n,\n",
    "$$\n",
    "onde $\\Delta^0 y_i = y_i$.\n",
    "\n",
    "A partir da relação entre os operadores de diferença dividida $\\omega (x_i,\\ldots, x_{i+j})$ e de diferença finita $\\Delta^j y_i$\n",
    "$$\n",
    "    \\omega (x_i,\\ldots, x_{i+j}) = \\frac{\\Delta^j y_i}{j! h^j},\n",
    "$$\n",
    "é fácil mostrar que o polinômio interpolador é dado por\n",
    "$$\n",
    "P_n(x) = y_0 + \\sum_{j=1}^n \\frac{\\Delta^j y_0}{j!} \\prod_{k=0}^{j-1} (u_x - k),\n",
    "$$\n",
    "onde $u_x = (x-x_0)/h$.\n",
    "\n",
    "A grande vantagem em relação à Interpolação de Newton é que ela reduz o número de adições pela metade e o número de divisões cai de $(n^2+n)/2$ para $n+1$."
   ]
  },
  {
   "cell_type": "markdown",
   "metadata": {},
   "source": [
    "**1.1** Modifique a implementação do Polinômio de Newton (copiada abaixo) para implementar a Interpolação de Gregory-Newton. (Dica: você precisa usar o Processo de Horner para ganhar a pontuação total da questão). "
   ]
  },
  {
   "cell_type": "code",
   "execution_count": 11,
   "metadata": {},
   "outputs": [],
   "source": [
    "\n",
    "import math\n",
    "import numpy as np\n",
    "\n",
    "def PolinomioGregoryNewton(x, y, z):\n",
    "    m = len(x)\n",
    "    h = x[1]-x[0]\n",
    "    \n",
    "    m = len(x)\n",
    "    Delta = np.zeros((m,m))\n",
    "    Delta[:,0] = y\n",
    "    for j in range(1,m):\n",
    "        for i in range(m-j):\n",
    "            # modificar linha seguinte\n",
    "           # Delta[i,j] = (Delta[i+1,j-1] - Delta[i,j-1])/(x[i+j]-x[i])\n",
    "            Delta[i,j] = (Delta[i+1,j-1] - Delta[i,j-1])\n",
    "    \n",
    "    # com Processo de Horner\n",
    "    # calcular u_x\n",
    "    u_x = (z - x[0])/(x[1]-x[0])\n",
    "    soma = 0.0\n",
    "    for j in range(m-1,0,-1):\n",
    "        soma += Delta[0,j]\n",
    "        # modificar linha seguinte\n",
    "        soma *= (u_x-j+1)/j\n",
    "    soma += y[0]            \n",
    "    return soma\n",
    "\n",
    "\n",
    "\n"
   ]
  },
  {
   "cell_type": "code",
   "execution_count": 12,
   "metadata": {},
   "outputs": [
    {
     "name": "stdout",
     "output_type": "stream",
     "text": [
      "Interpolacao de Newton: 2.060375\n",
      "Interpolacao de Lagrange: 2.060375\n",
      "Interpolacao de Lagrange: 2.060375\n"
     ]
    }
   ],
   "source": [
    "# Exemplo de uso\n",
    "\n",
    "x = 1.0*np.array([110,120,130])\n",
    "y = 1.0*np.array([2.041,2.079,2.114])\n",
    "\n",
    "print('Interpolacao de Newton:',PolinomioNewton(x,y,115))\n",
    "print('Interpolacao de Lagrange:',PolinomioLagrange(x,y,115))\n",
    "print('Interpolacao de Lagrange:',PolinomioGregoryNewton(x,y,115))"
   ]
  },
  {
   "cell_type": "markdown",
   "metadata": {},
   "source": [
    "## Parte 2: Estudo do erro, interpolação vs. regressão\n",
    "\n",
    "Nesta parte, iremos usar a Interpolação e de estimação de mínimos quadrados para avaliar o erro de previsão quando há erros de medição. Iremos investigar as seguintes questões:\n",
    "\n",
    "* O que acontece com o erro de interpolação quando aumentamos o grau do polinômio?\n",
    "* O que acontece com o erro da regressão polinomial quando aumentamos o número de pontos?\n",
    "* Dado um polinômio de grau $n$, qual dos métodos retorna as melhores previsões?\n",
    "\n",
    "**2.1** Antes de mais nada, precisamos definir uma função que fará a escolha de pontos.\n",
    "\n",
    "**Entrada:** um vetor $x$, uma abscissa $z$ e o número de pontos $n$ a serem escolhidos.\n",
    "\n",
    "**Saída:** Sejam $i$ e $j$ o menor e o maior índice dos pontos que devem ser usados como pontos-base. A função deve retornar $i$ e $j+1$.\n",
    "\n",
    "Você pode assumir que as coordenadas de $x$ estão em ordem estritamente crescente e que $x[0] < z < x[-1]$. Usaremos a função numpy.searchsorted."
   ]
  },
  {
   "cell_type": "code",
   "execution_count": 13,
   "metadata": {},
   "outputs": [],
   "source": [
    "def escolhePontos(x,z,n):\n",
    "    right_pos = np.searchsorted(x,z)\n",
    "    left_pos = right_pos-1\n",
    "    \n",
    "    xlen = len(x)\n",
    "    while (right_pos - left_pos +1) < n:\n",
    "        if right_pos == xlen-1  :\n",
    "            left_pos =  (xlen-1) - (n-1)\n",
    "            break\n",
    "        if left_pos == 0 :\n",
    "            right_pos = n-1\n",
    "            break\n",
    "        if (abs(z - x[right_pos+1]) < abs(z - x[left_pos-1])) :\n",
    "            right_pos += 1\n",
    "        else:\n",
    "            left_pos -= 1\n",
    "    return left_pos, right_pos+1\n",
    "\n",
    "\n",
    "\n",
    "    \n"
   ]
  },
  {
   "cell_type": "code",
   "execution_count": 14,
   "metadata": {},
   "outputs": [
    {
     "name": "stdout",
     "output_type": "stream",
     "text": [
      "(2, 5)\n",
      "(0, 3)\n",
      "(1, 3)\n",
      "(1, 5)\n",
      "(0, 4)\n"
     ]
    }
   ],
   "source": [
    "# Exemplo de uso\n",
    "print(escolhePontos([0,1,3,5,6],4,3))\n",
    "print(escolhePontos([0,1,3,5,6],0.5,3))\n",
    "print(escolhePontos([0,1,3,5,6],1.5,2))\n",
    "print(escolhePontos([0,1,3,5,6],5.5,4))\n",
    "print(escolhePontos([0,1,2,3,4,5],1.5,4))"
   ]
  },
  {
   "cell_type": "markdown",
   "metadata": {},
   "source": [
    "**2.2** O que acontece com o erro de interpolação quando aumentamos o grau do polinômio?\n",
    "Para responder esta pergunta, vamos:\n",
    "* gerar um polinômio de grau $p=4$ com coeficientes $\\textrm{coef}$ (usar função apropriada da Parte 0),\n",
    "* gerar uma tabela com $n=30$ pontos igualmente espaçados em $[0,1)$ a partir de $\\textrm{coef}$ (usar função apropriada da Parte 0),\n",
    "* gerar um vetor z_vec contendo as $\\textrm{ntests}=1000$ abscissas aleatórias em $[0,1]$ dos pontos a serem aproximados,\n",
    "* para cada grau $t=2,\\ldots,p+4$:\n",
    "    * para cada $z_i$ em z_vec:\n",
    "        -  fazendo a escolha de pontos, usar interpolação de Newton de grau $t$ para obter $y_i^\\textrm{aprox}$, uma aproximação para a ordenada de $z_i$\n",
    "        - calcular o erro quadrático da aproximação, i.e. $(y_i^\\textrm{exato}-y_i^\\textrm{aprox})^2$\n",
    "    * calcular o erro quadrático médio da aproximação por polinômio de grau $t$:\n",
    "    $$\n",
    "      \\textrm{erro}_t = \\frac{1}{\\textrm{ntests}} \\sum_{i=1}^{\\textrm{ntests}} y_i^\\textrm{exato}-y_i^\\textrm{aprox}\n",
    "    $$\n",
    "    \n",
    "**Atenção:** o gráfico gerado ao final deste processo pode ser um pouco diferente para cada execução."
   ]
  },
  {
   "cell_type": "code",
   "execution_count": 15,
   "metadata": {},
   "outputs": [
    {
     "data": {
      "text/plain": [
       "Text(0,0.5,'erro quadrático médio')"
      ]
     },
     "execution_count": 15,
     "metadata": {},
     "output_type": "execute_result"
    },
    {
     "data": {
      "image/png": "[encoded data removed]",
      "text/plain": [
       "<Figure size 432x288 with 1 Axes>"
      ]
     },
     "metadata": {},
     "output_type": "display_data"
    }
   ],
   "source": [
    "import matplotlib.pyplot as plt\n",
    "%matplotlib inline\n",
    "\n",
    "p = 4\n",
    "n = 30\n",
    "ntests = 1000\n",
    "\n",
    "# gera coeficientes do polinomio\n",
    "coef = geraPolinomioAleatorio(p)\n",
    "\n",
    "# gera tabela de n pontos\n",
    "x,y = geraTabelaAleatoriaY(n,coef)\n",
    "\n",
    "# gera abscissas aleatorias (casos de teste)\n",
    "#z_vec  = np.array([0.0] + list(np.random.rand(ntests-2)) + [1.0])\n",
    "z_vec = np.random.uniform(low=0, high=1, size=(ntests,))\n",
    "y_exato = np.polyval(coef[::-1],z_vec)\n",
    "\n",
    "erros = np.zeros(p+3)\n",
    "for t in range(2,p+5):\n",
    "    for i in range(ntests):\n",
    "        z = z_vec[i]\n",
    "        l_ind,r_ind = escolhePontos(x, z, t+1)\n",
    "        # preencher indices na linha seguinte\n",
    "        y_aprox = PolinomioNewton(x[l_ind:r_ind], y[l_ind:r_ind], z)\n",
    "        erros[t-2] += (y_exato[i] - y_aprox)**2\n",
    "    erros[t-2] /= ntests\n",
    "\n",
    "fig = plt.figure()\n",
    "fig.add_subplot(111)\n",
    "plt.plot(np.arange(2,p+5),erros)\n",
    "plt.xlabel('grau da interpolação')\n",
    "plt.ylabel('erro quadrático médio')\n"
   ]
  },
  {
   "cell_type": "markdown",
   "metadata": {},
   "source": [
    "**2.3** O que acontece com o erro da regressão polinomial quando aumentamos o número de pontos dados?\n",
    "\n",
    "Agora iremos fixar o grau da regressão polinomial $t=2,4, \\ldots, p+4$ e aumentar o número de pontos $m=t+1,\\ldots,t+20$ usados para estimar os parâmetros.\n",
    "\n",
    "Os pontos serão escolhidos aleatoriamente dentre aqueles no vetor $x$ gerado na questão anterior. Além disso, é interessante que a estimação feita com $m=t+i$ pontos inclua todos os pontos usados na estimação feita com $m-1$ pontos. Uma forma de se satisfazer ambos os requisitos isto é embaralhar os vetores $x$ e $y$ e usar sempre os $m$ primeiros elementos.\n",
    "\n",
    "**Atenção:** o gráfico gerado ao final deste processo pode ser um pouco diferente para cada execução."
   ]
  },
  {
   "cell_type": "code",
   "execution_count": 16,
   "metadata": {},
   "outputs": [
    {
     "data": {
      "image/png": "[encoded data removed]",
      "text/plain": [
       "<Figure size 432x288 with 1 Axes>"
      ]
     },
     "metadata": {},
     "output_type": "display_data"
    }
   ],
   "source": [
    "inds = np.arange(n)\n",
    "np.random.shuffle(inds) # indices embaralhados\n",
    "j = 0 ;\n",
    "x_shuffled = np.empty(n)\n",
    "y_shuffled = np.empty(n) \n",
    "for i in inds:\n",
    "    x_shuffled[i] = x[j]\n",
    "    y_shuffled[i] = y[j]\n",
    "    j+= 1 \n",
    "\n",
    "X_shuffled = RegressaoPolinomial_getX(x_shuffled,p+4)\n",
    "\n",
    "fig = plt.figure()\n",
    "fig.add_subplot(111)\n",
    "for t in range(2,p+5,2):\n",
    "    erros = np.zeros(20)\n",
    "    for m in range(t+1,t+21):\n",
    "        # preencher os indices na linha seguinte\n",
    "        beta, residuals, rank, sing_vals = np.linalg.lstsq(X_shuffled[0:m,0:t+1],y_shuffled[0:m],rcond=-1)\n",
    "        y_aprox = np.polyval(beta[::-1],z_vec)\n",
    "        # preencher argumento de np.average()\n",
    "        erros[m-(t+1)] = np.average((y_exato - y_aprox)**2)\n",
    "        \n",
    "    # plotar os resultados para grau t\n",
    "    plt.semilogy(np.arange(0,20),erros,label='t={}'.format(t))\n",
    "    plt.xlabel('número de pontos extras (n-(t+1))')\n",
    "    plt.ylabel('erro quadrático médio')\n",
    "    plt.legend()\n",
    "\n",
    "\n",
    " "
   ]
  },
  {
   "cell_type": "markdown",
   "metadata": {},
   "source": [
    "**2.4** Dado um polinômio de grau $t=2,\\ldots,p+4$, qual dos métodos retorna as melhores previsões?\n",
    "\n",
    "Para responder esta pergunta, iremos repetir o experimento anterior, adicionando uma reta tracejada correspondente ao erro da interpolação para cada grau."
   ]
  },
  {
   "cell_type": "code",
   "execution_count": 17,
   "metadata": {},
   "outputs": [
    {
     "data": {
      "image/png": "[encoded data removed]",
      "text/plain": [
       "<Figure size 432x288 with 1 Axes>"
      ]
     },
     "metadata": {},
     "output_type": "display_data"
    }
   ],
   "source": [
    "fig = plt.figure()\n",
    "fig.add_subplot(111)\n",
    "for t in range(2,p+5,2):\n",
    "    erros = np.zeros(20)\n",
    "    for m in range(t+1,t+21):\n",
    "        # preencher os indices na linha seguinte\n",
    "        beta, residuals, rank, sing_vals = np.linalg.lstsq(X_shuffled[0:m, 0:t+1],y_shuffled[0:m],rcond=-1)\n",
    "        y_aprox = np.polyval(beta[::-1],z_vec)\n",
    "        # preencher argumento de np.average()\n",
    "        erros[m-(t+1)] = np.average((y_exato - y_aprox)**2)\n",
    "\n",
    "    y_interp = np.zeros(ntests)\n",
    "    for i in range(ntests):\n",
    "        z = z_vec[i]\n",
    "        l_ind, r_ind = escolhePontos(x,z,t+1)\n",
    "        # preencher os indices na linha seguinte\n",
    "        y_interp[i] = PolinomioNewton(x[l_ind:r_ind], y[l_ind:r_ind], z)\n",
    "    # preencher argumento de np.average()\n",
    "    erro_interp  = np.average((y_exato - y_interp)**2)\n",
    "          \n",
    "    # plotar os resultados para grau t\n",
    "    line = plt.semilogy(np.arange(0,20),erros,label='reg t={}'.format(t))\n",
    "    plt.hlines(erro_interp,0,20,color=line[0].get_color(),linestyles='--',label='int t={}'.format(t))\n",
    "    plt.xlabel('número de pontos extras (n-(t+1))')\n",
    "    plt.ylabel('erro quadrático médio')\n",
    "    plt.legend(ncol=2)    \n"
   ]
  },
  {
   "cell_type": "markdown",
   "metadata": {},
   "source": [
    "## Parte 3: Estudo do tempo de execução, interpolação vs. regressão\n",
    "\n",
    "Vimos em sala que o custo da interpolação polinomial de grau $n$ é $\\mathcal{O}(n^2)$ e que o custo para se construir as equações normais de uma regressão polinomial é $\\mathcal{O}(np^2) = \\mathcal{O}(n^3)$.\n",
    "\n",
    "Contudo, tanto a interpolação polinomial quanto a regressão polinomial raramente consideram valores grandes de $n$, fazendo com que a diferença no custo computacional seja irrisória caso o método seja executado poucas vezes.\n",
    "\n",
    "Nesta parte iremos medir o tempo de execução dos dois métodos variando $n$. Para isso, usaremos os métodos implementados nas bibliotecas numpy e scipy."
   ]
  },
  {
   "cell_type": "markdown",
   "metadata": {},
   "source": [
    "Vamos utilizar o comando mágico %timeit para medir o tempo de execução de cada um dos métodos. Consulte a [documentação do IPython](http://ipython.readthedocs.io/en/stable/interactive/magics.html) para ver o seu funcionamento. *Não confundir com o comando time*.\n",
    "\n",
    "**3.1** Escolha os parâmetros do comando %timeit de modo a executar 4 vezes um loop com $10^3$ chamadas a PolinomioNewton(x, y, z). No bloco de código seguinte, faça o mesmo para a função np.linalg.lstsq."
   ]
  },
  {
   "cell_type": "code",
   "execution_count": 18,
   "metadata": {},
   "outputs": [
    {
     "name": "stdout",
     "output_type": "stream",
     "text": [
      "151 µs ± 34.3 µs per loop (mean ± std. dev. of 4 runs, 1000 loops each)\n"
     ]
    }
   ],
   "source": [
    "# geracao da funcao y = P(x)\n",
    "\n",
    "p = 4\n",
    "coef = geraPolinomioAleatorio(p) \n",
    "x, y = geraTabelaAleatoriaY(p+1, coef)\n",
    "\n",
    "# geracao do ponto a ser interpolado\n",
    "z = np.random.rand()\n",
    "\n",
    "# preencher depois do comando %timeit com os parametros -r e -n adequados\n",
    "%timeit -r 4 -n 1000 np.polynomial.polynomial.polyfit(x,y,deg=len(x)-1)"
   ]
  },
  {
   "cell_type": "code",
   "execution_count": 19,
   "metadata": {},
   "outputs": [
    {
     "name": "stdout",
     "output_type": "stream",
     "text": [
      "56.5 µs ± 12.3 µs per loop (mean ± std. dev. of 4 runs, 1000 loops each)\n"
     ]
    }
   ],
   "source": [
    "X = RegressaoPolinomial_getX(x,len(x)-1)\n",
    "# preencher depois do comando %timeit com os parametros -r e -n adequados\n",
    "%timeit -r 4 -n 1000 np.linalg.lstsq(X,y, rcond = -1)"
   ]
  },
  {
   "cell_type": "markdown",
   "metadata": {},
   "source": [
    "**3.2** Gere um único gráfico mostrando o aumento do tempo de execução de cada um dos métodos com o aumento do número de pontos $n=4,\\ldots,10$. Desta vez, execute 3 vezes um loop com $10^3$ interações para cada caso."
   ]
  },
  {
   "cell_type": "code",
   "execution_count": 20,
   "metadata": {},
   "outputs": [],
   "source": [
    "npontos = np.arange(5,12)\n",
    "tempos_poly = np.zeros(len(npontos))\n",
    "tempos_linreg = np.zeros(len(npontos))\n",
    "\n",
    "for n in npontos:\n",
    "    coef = geraPolinomioAleatorio(n-1)\n",
    "    x, y = geraTabelaAleatoriaY(n, coef)\n",
    "    X = RegressaoPolinomial_getX(x,len(x)-1)\n",
    "    \n",
    "    # preencher depois do comando %timeit com os parametros -r e -n adequados\n",
    "    time_info = %timeit -r 3 -n 1000 -q -o np.polynomial.polynomial.polyfit(x,y,deg=len(x)-1) # preencher depois do -o\n",
    "    tempos_poly[n-5] = time_info.average   \n",
    "\n",
    "    # preencher depois do comando %timeit com os parametros -r e -n adequados\n",
    "    \n",
    "    time_info = %timeit -r 3 -n 1000 -q -o beta, residuals, rank, sing_vals = np.linalg.lstsq(X,y,rcond=-1)\n",
    "    #time_info = %timeit -r 3 -n 1000 -q -o X\n",
    "    tempos_linreg[n-5] = time_info.average"
   ]
  },
  {
   "cell_type": "markdown",
   "metadata": {},
   "source": [
    "**3.3** Plote os tempos de execução obtidos em cada caso."
   ]
  },
  {
   "cell_type": "code",
   "execution_count": 21,
   "metadata": {},
   "outputs": [
    {
     "data": {
      "text/plain": [
       "<matplotlib.legend.Legend at 0x19da95ca198>"
      ]
     },
     "execution_count": 21,
     "metadata": {},
     "output_type": "execute_result"
    },
    {
     "data": {
      "image/png": "[encoded data removed]",
      "text/plain": [
       "<Figure size 432x288 with 1 Axes>"
      ]
     },
     "metadata": {},
     "output_type": "display_data"
    }
   ],
   "source": [
    "import matplotlib.pyplot as plt\n",
    "%matplotlib inline\n",
    "\n",
    "x = npontos\n",
    "#y1= \n",
    "#y2= \n",
    "plt.plot(x,tempos_poly,'r-',label='Interpolação Polinomial',color=\"Red\",linestyle=\"dashdot\") #Plotar os valores de tempo da decomp. LU pelo tempo\n",
    "plt.plot(x,tempos_linreg,'b-',label='Regressão Polinomial', color=\"Black\",linestyle=\"dashdot\") #Plota os valores de tempo da decomp. de Cholesky em preto\n",
    "plt.xlabel('Numero de pontos')\n",
    "plt.ylabel('Tempo médio')\n",
    "plt.legend()\n",
    "\n",
    "\n",
    "\n",
    "plt.legend()"
   ]
  },
  {
   "cell_type": "code",
   "execution_count": null,
   "metadata": {},
   "outputs": [],
   "source": []
  },
  {
   "cell_type": "code",
   "execution_count": null,
   "metadata": {},
   "outputs": [],
   "source": []
  }
 ],
 "metadata": {
  "kernelspec": {
   "display_name": "Python 3",
   "language": "python",
   "name": "python3"
  },
  "language_info": {
   "codemirror_mode": {
    "name": "ipython",
    "version": 3
   },
   "file_extension": ".py",
   "mimetype": "text/x-python",
   "name": "python",
   "nbconvert_exporter": "python",
   "pygments_lexer": "ipython3",
   "version": "3.6.5"
  }
 },
 "nbformat": 4,
 "nbformat_minor": 2
}
